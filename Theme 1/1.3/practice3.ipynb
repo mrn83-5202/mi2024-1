{
 "cells": [
  {
   "cell_type": "markdown",
   "metadata": {},
   "source": [
    "\n",
    "\n",
    "# 📌 Завдання (Тема 1.3)\n",
    "\n",
    "## Мета\n",
    "\n",
    "1. Встановити та підготувати базові інструменти для роботи розробника засобів ІАЗ:\n",
    "\n",
    "   * **Git**\n",
    "   * **GitHub** (обліковий запис)\n",
    "   * **Visual Studio Code**\n",
    "   * **Python 3.11+**\n",
    "   * **PostgreSQL**\n",
    "\n",
    "2. Навчитися робити мінімальні кроки у системі контролю версій:\n",
    "\n",
    "   * створити репозиторій,\n",
    "   * додати папку з робочими файлами,\n",
    "   * зробити коміт (commit),\n",
    "   * відправити зміни у GitHub (push).\n",
    "\n",
    "---\n",
    "\n",
    "## Кроки виконання\n",
    "\n",
    "### 1. Встановлення компонентів\n",
    "\n",
    "* Встановіть:\n",
    "\n",
    "  * **Git for Windows**\n",
    "  * **Visual Studio Code**\n",
    "  * **Python 3.11+**\n",
    "  * **PostgreSQL** (з pgAdmin або psql консоль)\n",
    "* Переконайтесь, що все працює:\n",
    "\n",
    "  ```powershell\n",
    "  git --version\n",
    "  python --version\n",
    "  psql --version\n",
    "  ```\n",
    "\n",
    "### 2. Створення GitHub репозиторію\n",
    "\n",
    "* У GitHub створіть репозиторій для виконання практик з дисципліни, наприклад `miaz_2025_practicals`.\n",
    "* Клонуйте його у VS Code.\n",
    "\n",
    "### 3. Створення робочої папки заняття\n",
    "\n",
    "У корені репозиторію створіть папку `1.3/`.\n",
    "У ній додайте такі файли:\n",
    "\n",
    "#### `README.md`\n",
    "\n",
    "```md\n",
    "# Тема 1.3. Перше середовище для ІАЗ\n",
    "\n",
    "## Завдання\n",
    "1. Встановлено Git, VS Code, Python, PostgreSQL.\n",
    "2. Створено перший репозиторій на GitHub.\n",
    "3. Виконано простий скрипт Python для перевірки роботи.\n",
    "\n",
    "## Результат\n",
    "Очікувано: у GitHub з’являється папка `1.3/` з файлами цього завдання.\n",
    "```\n",
    "\n",
    "#### `.gitignore`\n",
    "\n",
    "```gitignore\n",
    ".venv/\n",
    "__pycache__/\n",
    ".env\n",
    "*.pyc\n",
    "```\n",
    "\n",
    "#### `check.py` (мінімальний приклад Python)\n",
    "\n",
    "```python\n",
    "print(\"✔ Python працює!\")\n",
    "\n",
    "numbers = [1, 2, 3, 4, 5]\n",
    "squares = [n*n for n in numbers]\n",
    "print(\"Квадрати:\", squares)\n",
    "```\n",
    "\n",
    "#### `schema.sql` (мінімальний приклад для PostgreSQL)\n",
    "\n",
    "```sql\n",
    "CREATE TABLE IF NOT EXISTS test_data (\n",
    "    id SERIAL PRIMARY KEY,\n",
    "    name TEXT NOT NULL\n",
    ");\n",
    "```\n",
    "\n",
    "---\n",
    "\n",
    "### 4. Робота з Git у VS Code\n",
    "\n",
    "1. У Source Control (іконка гілки):\n",
    "\n",
    "   * Stage All Changes\n",
    "   * Commit з повідомленням: `Add 1.3 initial lab files`\n",
    "   * Push (синхронізація з GitHub).\n",
    "2. Перевірте у браузері GitHub: файли з’явились у репозиторії.\n",
    "\n",
    "---\n",
    "\n",
    "### 5. Перевірка Python\n",
    "\n",
    "У терміналі VS Code:\n",
    "\n",
    "```powershell\n",
    "python 1.3/check.py\n",
    "```\n",
    "\n",
    "Очікуваний результат:\n",
    "\n",
    "```\n",
    "✔ Python працює!\n",
    "Квадрати: [1, 4, 9, 16, 25]\n",
    "```\n",
    "\n",
    "---\n",
    "\n",
    "## ✅ Результат виконання\n",
    "\n",
    "* У GitHub є репозиторій `iaz-practicals` з папкою `1.3/`.\n",
    "* Всередині є файли: `README.md`, `.gitignore`, `check.py`, `schema.sql`.\n",
    "* Скрипт `check.py` виконується без помилок.\n",
    "* Є мінімальна історія комітів (commit history).\n",
    "\n"
   ]
  },
  {
   "cell_type": "code",
   "execution_count": 1,
   "metadata": {},
   "outputs": [],
   "source": [
    "echo \"# miaz_2025_practicals\" >> README.md\n"
   ]
  },
  {
   "cell_type": "code",
   "execution_count": 2,
   "metadata": {},
   "outputs": [
    {
     "name": "stdout",
     "output_type": "stream",
     "text": [
      "Initialized empty Git repository in C:/mi2024/mi2024-1/Theme 1/1.3/.git/\n"
     ]
    }
   ],
   "source": [
    "!git init\n"
   ]
  },
  {
   "cell_type": "code",
   "execution_count": 3,
   "metadata": {},
   "outputs": [
    {
     "ename": "SyntaxError",
     "evalue": "invalid syntax (1162575616.py, line 1)",
     "output_type": "error",
     "traceback": [
      "  \u001b[36mCell\u001b[39m\u001b[36m \u001b[39m\u001b[32mIn[3]\u001b[39m\u001b[32m, line 1\u001b[39m\n\u001b[31m    \u001b[39m\u001b[31mgit add README.md\u001b[39m\n        ^\n\u001b[31mSyntaxError\u001b[39m\u001b[31m:\u001b[39m invalid syntax\n"
     ]
    }
   ],
   "source": [
    "git add README.md\n"
   ]
  }
 ],
 "metadata": {
  "kernelspec": {
   "display_name": "Python 3",
   "language": "python",
   "name": "python3"
  },
  "language_info": {
   "codemirror_mode": {
    "name": "ipython",
    "version": 3
   },
   "file_extension": ".py",
   "mimetype": "text/x-python",
   "name": "python",
   "nbconvert_exporter": "python",
   "pygments_lexer": "ipython3",
   "version": "3.11.9"
  }
 },
 "nbformat": 4,
 "nbformat_minor": 2
}
